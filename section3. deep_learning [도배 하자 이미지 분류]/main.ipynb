{
 "cells": [
  {
   "cell_type": "markdown",
   "id": "83747bfe",
   "metadata": {},
   "source": [
    "# 0. Library Import"
   ]
  },
  {
   "cell_type": "code",
   "execution_count": 1,
   "id": "f28c59a8",
   "metadata": {},
   "outputs": [],
   "source": [
    "# 라이브러리 import 시 opencv 관련 에러가 난다면 아래 코드 실행하기\n",
    "# pip install opencv-python"
   ]
  },
  {
   "cell_type": "code",
   "execution_count": 2,
   "id": "bc297438",
   "metadata": {},
   "outputs": [
    {
     "name": "stderr",
     "output_type": "stream",
     "text": [
      "C:\\Users\\octob\\AppData\\Local\\Temp\\ipykernel_24136\\1712922449.py:30: DeprecationWarning: `import kerastuner` is deprecated, please use `import keras_tuner`.\n",
      "  from kerastuner.tuners import BayesianOptimization\n"
     ]
    },
    {
     "data": {
      "text/plain": [
       "'2.12.0'"
      ]
     },
     "execution_count": 2,
     "metadata": {},
     "output_type": "execute_result"
    }
   ],
   "source": [
    "# 기본 라이브러리\n",
    "import tensorflow as tf\n",
    "import numpy as np\n",
    "import pandas as pd\n",
    "import random\n",
    "import os\n",
    "\n",
    "# 시각화\n",
    "import matplotlib.pyplot as plt\n",
    "import seaborn as sns\n",
    "\n",
    "# 이미지 전처리\n",
    "import cv2\n",
    "import splitfolders\n",
    "from tensorflow.keras.preprocessing.image import ImageDataGenerator\n",
    "\n",
    "# 모델링\n",
    "from tensorflow.keras.models import Sequential, Model\n",
    "from tensorflow.keras.layers import Conv2D, MaxPooling2D, Dense, GlobalAveragePooling2D, Flatten, Dropout\n",
    "from keras import metrics\n",
    "\n",
    "# 사전학습모델\n",
    "from tensorflow.keras.applications import ResNet50V2\n",
    "from tensorflow.keras.applications.efficientnet_v2 import EfficientNetV2B2\n",
    "\n",
    "# 모델 평가\n",
    "from sklearn.metrics import f1_score\n",
    "\n",
    "# 하이퍼파라미터 튜닝\n",
    "from kerastuner.tuners import BayesianOptimization\n",
    "\n",
    "# 모델 불러오기\n",
    "from keras.models import save_model\n",
    "\n",
    "# tensorflow 버전 확인\n",
    "tf.__version__"
   ]
  },
  {
   "cell_type": "code",
   "execution_count": 3,
   "id": "a59b4cc2",
   "metadata": {},
   "outputs": [],
   "source": [
    "# Seed 고정\n",
    "random.seed(1)\n",
    "np.random.seed(1)\n",
    "os.environ[\"PYTHONHASHSEED\"] = str(1)\n",
    "os.environ['TF_DETERMINISTIC_OPS'] = str(1)\n",
    "tf.random.set_seed(1)"
   ]
  },
  {
   "cell_type": "code",
   "execution_count": 4,
   "id": "c784a92a",
   "metadata": {},
   "outputs": [],
   "source": [
    "# 소수점 4자리까지 보이도록 설정\n",
    "pd.set_option('display.float_format', '{:,.4f}'.format)"
   ]
  },
  {
   "cell_type": "markdown",
   "id": "1105173a",
   "metadata": {},
   "source": [
    "# 1. Preprocessing"
   ]
  },
  {
   "cell_type": "markdown",
   "id": "2b1ddd61",
   "metadata": {},
   "source": [
    "## 1.1 Data Split (Train / Val / Test)"
   ]
  },
  {
   "cell_type": "code",
   "execution_count": 5,
   "id": "3e33aca3",
   "metadata": {
    "scrolled": true
   },
   "outputs": [],
   "source": [
    "# train, val, test 세개로 쪼갠 폴더 만들기\n",
    "# splitfolders.ratio('data/train', output='data_splited', seed=42, ratio=(.8, .1, .1))"
   ]
  },
  {
   "cell_type": "markdown",
   "id": "3b824754",
   "metadata": {},
   "source": [
    "## 1.2 Preprocessing using Image Generator"
   ]
  },
  {
   "cell_type": "code",
   "execution_count": 86,
   "id": "29069522",
   "metadata": {},
   "outputs": [
    {
     "name": "stdout",
     "output_type": "stream",
     "text": [
      "Found 2759 images belonging to 19 classes.\n",
      "Found 338 images belonging to 19 classes.\n"
     ]
    }
   ],
   "source": [
    "# 이미지 전처리 및 불러오기 (CNN에 맞춘 픽셀값)\n",
    "\n",
    "# training set preprocessing\n",
    "training_gen64 = ImageDataGenerator(rescale=1./255,\n",
    "                                    rotation_range=7,\n",
    "                                    horizontal_flip=True,\n",
    "                                    zoom_range=0.2)\n",
    "\n",
    "train_64 = training_gen64.flow_from_directory('data_splited/train',\n",
    "                                                    target_size = (64, 64),\n",
    "                                                    batch_size = 8,\n",
    "                                                    class_mode = 'sparse',\n",
    "                                                    shuffle = True)\n",
    "\n",
    "# val set preprocessing\n",
    "val_gen64 = ImageDataGenerator(rescale=1./255)\n",
    "val_64 = val_gen64.flow_from_directory('data_splited/val',\n",
    "                                        target_size = (64, 64),\n",
    "                                        batch_size = 8,\n",
    "                                        class_mode = 'sparse',\n",
    "                                        shuffle = False)"
   ]
  },
  {
   "cell_type": "markdown",
   "id": "85dc5378",
   "metadata": {},
   "source": [
    "## 1.3 Target Class"
   ]
  },
  {
   "cell_type": "code",
   "execution_count": 7,
   "id": "bbf435c8",
   "metadata": {},
   "outputs": [
    {
     "data": {
      "text/plain": [
       "{'가구수정': 0,\n",
       " '걸레받이수정': 1,\n",
       " '곰팡이': 2,\n",
       " '꼬임': 3,\n",
       " '녹오염': 4,\n",
       " '들뜸': 5,\n",
       " '면불량': 6,\n",
       " '몰딩수정': 7,\n",
       " '반점': 8,\n",
       " '석고수정': 9,\n",
       " '오염': 10,\n",
       " '오타공': 11,\n",
       " '울음': 12,\n",
       " '이음부불량': 13,\n",
       " '창틀,문틀수정': 14,\n",
       " '터짐': 15,\n",
       " '틈새과다': 16,\n",
       " '피스': 17,\n",
       " '훼손': 18}"
      ]
     },
     "execution_count": 7,
     "metadata": {},
     "output_type": "execute_result"
    }
   ],
   "source": [
    "# 타겟 클래스가 어떻게 설정되었나 살펴보기\n",
    "train_64.class_indices"
   ]
  },
  {
   "cell_type": "code",
   "execution_count": 10,
   "id": "ee07f715",
   "metadata": {},
   "outputs": [
    {
     "name": "stdout",
     "output_type": "stream",
     "text": [
      "{'가구수정': 9, '걸레받이수정': 245, '곰팡이': 116, '꼬임': 168, '녹오염': 11, '들뜸': 43, '면불량': 79, '몰딩수정': 104, '반점': 2, '석고수정': 45, '오염': 476, '오타공': 113, '울음': 17, '이음부불량': 13, '창틀,문틀수정': 21, '터짐': 129, '틈새과다': 4, '피스': 40, '훼손': 1124}\n"
     ]
    }
   ],
   "source": [
    "# 클래스 이름 목록\n",
    "key_list = train_64.class_indices.keys()\n",
    "\n",
    "# 클래스별 데이터 갯수 목록\n",
    "unique, counts = np.unique(train_64.classes, return_counts = True)\n",
    "uniq_dict = dict(zip(unique, counts))\n",
    "value_list = uniq_dict.values()\n",
    "\n",
    "# 클래스 이름과 데이터 갯수가 명시된 dictionary 만들기\n",
    "dictionary = dict(zip(key_list, value_list))\n",
    "print(dictionary)"
   ]
  },
  {
   "cell_type": "code",
   "execution_count": 14,
   "id": "f7e785d1",
   "metadata": {},
   "outputs": [
    {
     "data": {
      "text/plain": [
       "([0, 1, 2, 3, 4, 5, 6, 7, 8, 9, 10, 11, 12, 13, 14, 15, 16, 17, 18],\n",
       " [Text(0, 0, '가구수정'),\n",
       "  Text(1, 0, '걸레받이수정'),\n",
       "  Text(2, 0, '곰팡이'),\n",
       "  Text(3, 0, '꼬임'),\n",
       "  Text(4, 0, '녹오염'),\n",
       "  Text(5, 0, '들뜸'),\n",
       "  Text(6, 0, '면불량'),\n",
       "  Text(7, 0, '몰딩수정'),\n",
       "  Text(8, 0, '반점'),\n",
       "  Text(9, 0, '석고수정'),\n",
       "  Text(10, 0, '오염'),\n",
       "  Text(11, 0, '오타공'),\n",
       "  Text(12, 0, '울음'),\n",
       "  Text(13, 0, '이음부불량'),\n",
       "  Text(14, 0, '창틀,문틀수정'),\n",
       "  Text(15, 0, '터짐'),\n",
       "  Text(16, 0, '틈새과다'),\n",
       "  Text(17, 0, '피스'),\n",
       "  Text(18, 0, '훼손')])"
      ]
     },
     "execution_count": 14,
     "metadata": {},
     "output_type": "execute_result"
    },
    {
     "data": {
      "image/png": "[encoded data removed]",
      "text/plain": [
       "<Figure size 1800x900 with 1 Axes>"
      ]
     },
     "metadata": {},
     "output_type": "display_data"
    }
   ],
   "source": [
    "# # 한글 폰트 사용을 위해서 세팅\n",
    "import matplotlib\n",
    "matplotlib.rcParams['font.family'] ='Malgun Gothic'\n",
    "matplotlib.rcParams['axes.unicode_minus'] =False\n",
    "\n",
    "# 클래스 별 데이터 갯수 시각화\n",
    "plt.figure(figsize=(18, 9))\n",
    "plt.bar(dictionary.keys(), dictionary.values())\n",
    "plt.xticks(fontsize=20, rotation=75)\n",
    "\n",
    "# 한눈에 보아도 불균형이 심하다"
   ]
  },
  {
   "cell_type": "code",
   "execution_count": 15,
   "id": "d30443fc",
   "metadata": {},
   "outputs": [
    {
     "data": {
      "text/plain": [
       "145.21052631578948"
      ]
     },
     "execution_count": 15,
     "metadata": {},
     "output_type": "execute_result"
    }
   ],
   "source": [
    "# 클래스당 평균 데이터 갯수는?\n",
    "average = sum(dictionary.values()) / len(dictionary)\n",
    "average"
   ]
  },
  {
   "cell_type": "markdown",
   "id": "20052ba0",
   "metadata": {},
   "source": [
    "# 2. 모델 선정"
   ]
  },
  {
   "cell_type": "markdown",
   "id": "0dec7b62",
   "metadata": {},
   "source": [
    "## 2.1 CNN"
   ]
  },
  {
   "cell_type": "code",
   "execution_count": 16,
   "id": "c7dd6706",
   "metadata": {},
   "outputs": [],
   "source": [
    "# Custom CNN 만들기\n",
    "\n",
    "cnn = Sequential()\n",
    "cnn.add(Conv2D(32, (3,3), input_shape = (64,64,3), activation='relu'))\n",
    "cnn.add(MaxPooling2D(pool_size=(2,2)))\n",
    "\n",
    "cnn.add(Conv2D(32, (3,3), activation='relu'))\n",
    "cnn.add(MaxPooling2D(pool_size=(2,2)))\n",
    "\n",
    "cnn.add(Conv2D(32, (3,3), activation='relu'))\n",
    "cnn.add(MaxPooling2D(pool_size=(2,2)))\n",
    "\n",
    "cnn.add(Flatten())\n",
    "\n",
    "cnn.add(Dense(units = 3137, activation='relu'))\n",
    "cnn.add(Dense(units = 3137, activation='relu'))\n",
    "cnn.add(Dense(units = 19, activation='softmax'))"
   ]
  },
  {
   "cell_type": "code",
   "execution_count": 17,
   "id": "4cddaf47",
   "metadata": {},
   "outputs": [],
   "source": [
    "# compile\n",
    "cnn.compile(optimizer = 'adam', loss = 'sparse_categorical_crossentropy', metrics = [metrics.sparse_categorical_accuracy])"
   ]
  },
  {
   "cell_type": "code",
   "execution_count": 18,
   "id": "462d2c36",
   "metadata": {
    "scrolled": false
   },
   "outputs": [
    {
     "name": "stdout",
     "output_type": "stream",
     "text": [
      "Epoch 1/100\n",
      "345/345 [==============================] - ETA: 0s - loss: 2.0958 - sparse_categorical_accuracy: 0.4063\n",
      "Epoch 1: val_loss improved from inf to 2.00679, saving model to CNNbest.hdf5\n",
      "345/345 [==============================] - 114s 327ms/step - loss: 2.0958 - sparse_categorical_accuracy: 0.4063 - val_loss: 2.0068 - val_sparse_categorical_accuracy: 0.4142\n",
      "Epoch 2/100\n",
      "345/345 [==============================] - ETA: 0s - loss: 2.0654 - sparse_categorical_accuracy: 0.4070\n",
      "Epoch 2: val_loss did not improve from 2.00679\n",
      "345/345 [==============================] - 74s 214ms/step - loss: 2.0654 - sparse_categorical_accuracy: 0.4070 - val_loss: 2.0086 - val_sparse_categorical_accuracy: 0.4142\n",
      "Epoch 3/100\n",
      "345/345 [==============================] - ETA: 0s - loss: 2.0510 - sparse_categorical_accuracy: 0.4074\n",
      "Epoch 3: val_loss improved from 2.00679 to 2.00419, saving model to CNNbest.hdf5\n",
      "345/345 [==============================] - 69s 200ms/step - loss: 2.0510 - sparse_categorical_accuracy: 0.4074 - val_loss: 2.0042 - val_sparse_categorical_accuracy: 0.4142\n",
      "Epoch 4/100\n",
      "345/345 [==============================] - ETA: 0s - loss: 2.0471 - sparse_categorical_accuracy: 0.4074\n",
      "Epoch 4: val_loss improved from 2.00419 to 1.99778, saving model to CNNbest.hdf5\n",
      "345/345 [==============================] - 67s 194ms/step - loss: 2.0471 - sparse_categorical_accuracy: 0.4074 - val_loss: 1.9978 - val_sparse_categorical_accuracy: 0.4142\n",
      "Epoch 5/100\n",
      "345/345 [==============================] - ETA: 0s - loss: 2.0465 - sparse_categorical_accuracy: 0.4074\n",
      "Epoch 5: val_loss did not improve from 1.99778\n",
      "345/345 [==============================] - 74s 215ms/step - loss: 2.0465 - sparse_categorical_accuracy: 0.4074 - val_loss: 2.0066 - val_sparse_categorical_accuracy: 0.4142\n",
      "Epoch 6/100\n",
      "345/345 [==============================] - ETA: 0s - loss: 2.0442 - sparse_categorical_accuracy: 0.4074\n",
      "Epoch 6: val_loss did not improve from 1.99778\n",
      "345/345 [==============================] - 73s 211ms/step - loss: 2.0442 - sparse_categorical_accuracy: 0.4074 - val_loss: 1.9987 - val_sparse_categorical_accuracy: 0.4142\n",
      "Epoch 7/100\n",
      "345/345 [==============================] - ETA: 0s - loss: 2.0333 - sparse_categorical_accuracy: 0.4070\n",
      "Epoch 7: val_loss improved from 1.99778 to 1.95120, saving model to CNNbest.hdf5\n",
      "345/345 [==============================] - 71s 205ms/step - loss: 2.0333 - sparse_categorical_accuracy: 0.4070 - val_loss: 1.9512 - val_sparse_categorical_accuracy: 0.4172\n",
      "Epoch 8/100\n",
      "345/345 [==============================] - ETA: 0s - loss: 2.0462 - sparse_categorical_accuracy: 0.4088\n",
      "Epoch 8: val_loss did not improve from 1.95120\n",
      "345/345 [==============================] - 71s 207ms/step - loss: 2.0462 - sparse_categorical_accuracy: 0.4088 - val_loss: 1.9950 - val_sparse_categorical_accuracy: 0.4142\n",
      "Epoch 9/100\n",
      "345/345 [==============================] - ETA: 0s - loss: 1.9780 - sparse_categorical_accuracy: 0.4110\n",
      "Epoch 9: val_loss improved from 1.95120 to 1.89716, saving model to CNNbest.hdf5\n",
      "345/345 [==============================] - 71s 206ms/step - loss: 1.9780 - sparse_categorical_accuracy: 0.4110 - val_loss: 1.8972 - val_sparse_categorical_accuracy: 0.4260\n",
      "Epoch 10/100\n",
      "345/345 [==============================] - ETA: 0s - loss: 1.9216 - sparse_categorical_accuracy: 0.4241\n",
      "Epoch 10: val_loss improved from 1.89716 to 1.83317, saving model to CNNbest.hdf5\n",
      "345/345 [==============================] - 71s 205ms/step - loss: 1.9216 - sparse_categorical_accuracy: 0.4241 - val_loss: 1.8332 - val_sparse_categorical_accuracy: 0.4379\n",
      "Epoch 11/100\n",
      "345/345 [==============================] - ETA: 0s - loss: 1.8649 - sparse_categorical_accuracy: 0.4386\n",
      "Epoch 11: val_loss improved from 1.83317 to 1.81714, saving model to CNNbest.hdf5\n",
      "345/345 [==============================] - 71s 206ms/step - loss: 1.8649 - sparse_categorical_accuracy: 0.4386 - val_loss: 1.8171 - val_sparse_categorical_accuracy: 0.4408\n",
      "Epoch 12/100\n",
      "345/345 [==============================] - ETA: 0s - loss: 1.8500 - sparse_categorical_accuracy: 0.4386\n",
      "Epoch 12: val_loss improved from 1.81714 to 1.76470, saving model to CNNbest.hdf5\n",
      "345/345 [==============================] - 71s 205ms/step - loss: 1.8500 - sparse_categorical_accuracy: 0.4386 - val_loss: 1.7647 - val_sparse_categorical_accuracy: 0.4379\n",
      "Epoch 13/100\n",
      "345/345 [==============================] - ETA: 0s - loss: 1.7866 - sparse_categorical_accuracy: 0.4538\n",
      "Epoch 13: val_loss improved from 1.76470 to 1.68354, saving model to CNNbest.hdf5\n",
      "345/345 [==============================] - 71s 205ms/step - loss: 1.7866 - sparse_categorical_accuracy: 0.4538 - val_loss: 1.6835 - val_sparse_categorical_accuracy: 0.4675\n",
      "Epoch 14/100\n",
      "345/345 [==============================] - ETA: 0s - loss: 1.7168 - sparse_categorical_accuracy: 0.4596\n",
      "Epoch 14: val_loss did not improve from 1.68354\n",
      "345/345 [==============================] - 71s 206ms/step - loss: 1.7168 - sparse_categorical_accuracy: 0.4596 - val_loss: 1.7557 - val_sparse_categorical_accuracy: 0.4615\n",
      "Epoch 15/100\n",
      "345/345 [==============================] - ETA: 0s - loss: 1.6863 - sparse_categorical_accuracy: 0.4632\n",
      "Epoch 15: val_loss improved from 1.68354 to 1.64808, saving model to CNNbest.hdf5\n",
      "345/345 [==============================] - 70s 203ms/step - loss: 1.6863 - sparse_categorical_accuracy: 0.4632 - val_loss: 1.6481 - val_sparse_categorical_accuracy: 0.4734\n",
      "Epoch 16/100\n",
      "345/345 [==============================] - ETA: 0s - loss: 1.6343 - sparse_categorical_accuracy: 0.4719\n",
      "Epoch 16: val_loss improved from 1.64808 to 1.62910, saving model to CNNbest.hdf5\n",
      "345/345 [==============================] - 68s 197ms/step - loss: 1.6343 - sparse_categorical_accuracy: 0.4719 - val_loss: 1.6291 - val_sparse_categorical_accuracy: 0.4734\n",
      "Epoch 17/100\n",
      "345/345 [==============================] - ETA: 0s - loss: 1.6088 - sparse_categorical_accuracy: 0.4893\n",
      "Epoch 17: val_loss did not improve from 1.62910\n",
      "345/345 [==============================] - 71s 206ms/step - loss: 1.6088 - sparse_categorical_accuracy: 0.4893 - val_loss: 1.6558 - val_sparse_categorical_accuracy: 0.4763\n",
      "Epoch 18/100\n",
      "345/345 [==============================] - ETA: 0s - loss: 1.5541 - sparse_categorical_accuracy: 0.4937\n",
      "Epoch 18: val_loss did not improve from 1.62910\n",
      "345/345 [==============================] - 70s 203ms/step - loss: 1.5541 - sparse_categorical_accuracy: 0.4937 - val_loss: 1.6414 - val_sparse_categorical_accuracy: 0.4675\n",
      "Epoch 19/100\n",
      "345/345 [==============================] - ETA: 0s - loss: 1.5191 - sparse_categorical_accuracy: 0.5031\n",
      "Epoch 19: val_loss did not improve from 1.62910\n",
      "345/345 [==============================] - 68s 196ms/step - loss: 1.5191 - sparse_categorical_accuracy: 0.5031 - val_loss: 1.6332 - val_sparse_categorical_accuracy: 0.4556\n",
      "Epoch 20/100\n",
      "345/345 [==============================] - ETA: 0s - loss: 1.4679 - sparse_categorical_accuracy: 0.5089\n",
      "Epoch 20: val_loss did not improve from 1.62910\n",
      "345/345 [==============================] - 67s 195ms/step - loss: 1.4679 - sparse_categorical_accuracy: 0.5089 - val_loss: 1.6840 - val_sparse_categorical_accuracy: 0.4527\n",
      "Epoch 21/100\n",
      "345/345 [==============================] - ETA: 0s - loss: 1.4476 - sparse_categorical_accuracy: 0.5205\n",
      "Epoch 21: val_loss did not improve from 1.62910\n",
      "345/345 [==============================] - 68s 196ms/step - loss: 1.4476 - sparse_categorical_accuracy: 0.5205 - val_loss: 1.6590 - val_sparse_categorical_accuracy: 0.4645\n",
      "Epoch 22/100\n",
      "345/345 [==============================] - ETA: 0s - loss: 1.4057 - sparse_categorical_accuracy: 0.5256\n",
      "Epoch 22: val_loss did not improve from 1.62910\n",
      "345/345 [==============================] - 71s 205ms/step - loss: 1.4057 - sparse_categorical_accuracy: 0.5256 - val_loss: 1.6683 - val_sparse_categorical_accuracy: 0.4734\n",
      "Epoch 23/100\n",
      "345/345 [==============================] - ETA: 0s - loss: 1.3589 - sparse_categorical_accuracy: 0.5455\n",
      "Epoch 23: val_loss improved from 1.62910 to 1.62574, saving model to CNNbest.hdf5\n",
      "345/345 [==============================] - 69s 201ms/step - loss: 1.3589 - sparse_categorical_accuracy: 0.5455 - val_loss: 1.6257 - val_sparse_categorical_accuracy: 0.4675\n",
      "Epoch 24/100\n",
      "345/345 [==============================] - ETA: 0s - loss: 1.3166 - sparse_categorical_accuracy: 0.5556\n",
      "Epoch 24: val_loss improved from 1.62574 to 1.61109, saving model to CNNbest.hdf5\n",
      "345/345 [==============================] - 68s 197ms/step - loss: 1.3166 - sparse_categorical_accuracy: 0.5556 - val_loss: 1.6111 - val_sparse_categorical_accuracy: 0.4852\n",
      "Epoch 25/100\n",
      "345/345 [==============================] - ETA: 0s - loss: 1.3126 - sparse_categorical_accuracy: 0.5487\n",
      "Epoch 25: val_loss did not improve from 1.61109\n",
      "345/345 [==============================] - 68s 196ms/step - loss: 1.3126 - sparse_categorical_accuracy: 0.5487 - val_loss: 1.7347 - val_sparse_categorical_accuracy: 0.4793\n",
      "Epoch 26/100\n",
      "345/345 [==============================] - ETA: 0s - loss: 1.2820 - sparse_categorical_accuracy: 0.5578\n",
      "Epoch 26: val_loss did not improve from 1.61109\n",
      "345/345 [==============================] - 68s 198ms/step - loss: 1.2820 - sparse_categorical_accuracy: 0.5578 - val_loss: 1.6685 - val_sparse_categorical_accuracy: 0.4793\n",
      "Epoch 27/100\n",
      "345/345 [==============================] - ETA: 0s - loss: 1.2330 - sparse_categorical_accuracy: 0.5788\n",
      "Epoch 27: val_loss did not improve from 1.61109\n",
      "345/345 [==============================] - 68s 197ms/step - loss: 1.2330 - sparse_categorical_accuracy: 0.5788 - val_loss: 1.7693 - val_sparse_categorical_accuracy: 0.4112\n",
      "Epoch 28/100\n",
      "345/345 [==============================] - ETA: 0s - loss: 1.1941 - sparse_categorical_accuracy: 0.5868\n",
      "Epoch 28: val_loss did not improve from 1.61109\n",
      "345/345 [==============================] - 68s 198ms/step - loss: 1.1941 - sparse_categorical_accuracy: 0.5868 - val_loss: 1.8693 - val_sparse_categorical_accuracy: 0.4497\n",
      "Epoch 29/100\n",
      "345/345 [==============================] - ETA: 0s - loss: 1.1712 - sparse_categorical_accuracy: 0.5977\n",
      "Epoch 29: val_loss did not improve from 1.61109\n",
      "345/345 [==============================] - 68s 197ms/step - loss: 1.1712 - sparse_categorical_accuracy: 0.5977 - val_loss: 1.8170 - val_sparse_categorical_accuracy: 0.4793\n",
      "Epoch 30/100\n",
      "345/345 [==============================] - ETA: 0s - loss: 1.1374 - sparse_categorical_accuracy: 0.6017\n",
      "Epoch 30: val_loss did not improve from 1.61109\n",
      "345/345 [==============================] - 68s 197ms/step - loss: 1.1374 - sparse_categorical_accuracy: 0.6017 - val_loss: 1.7058 - val_sparse_categorical_accuracy: 0.4704\n",
      "Epoch 31/100\n",
      "345/345 [==============================] - ETA: 0s - loss: 1.0995 - sparse_categorical_accuracy: 0.6129\n",
      "Epoch 31: val_loss did not improve from 1.61109\n",
      "345/345 [==============================] - 67s 194ms/step - loss: 1.0995 - sparse_categorical_accuracy: 0.6129 - val_loss: 1.9238 - val_sparse_categorical_accuracy: 0.4852\n",
      "Epoch 32/100\n",
      "345/345 [==============================] - ETA: 0s - loss: 1.0695 - sparse_categorical_accuracy: 0.6136\n",
      "Epoch 32: val_loss did not improve from 1.61109\n",
      "345/345 [==============================] - 67s 196ms/step - loss: 1.0695 - sparse_categorical_accuracy: 0.6136 - val_loss: 1.8277 - val_sparse_categorical_accuracy: 0.4970\n",
      "Epoch 33/100\n",
      "345/345 [==============================] - ETA: 0s - loss: 1.0921 - sparse_categorical_accuracy: 0.6125\n",
      "Epoch 33: val_loss did not improve from 1.61109\n",
      "345/345 [==============================] - 69s 201ms/step - loss: 1.0921 - sparse_categorical_accuracy: 0.6125 - val_loss: 1.9161 - val_sparse_categorical_accuracy: 0.4586\n",
      "Epoch 34/100\n",
      "345/345 [==============================] - ETA: 0s - loss: 0.9892 - sparse_categorical_accuracy: 0.6473\n",
      "Epoch 34: val_loss did not improve from 1.61109\n",
      "345/345 [==============================] - 68s 198ms/step - loss: 0.9892 - sparse_categorical_accuracy: 0.6473 - val_loss: 2.0959 - val_sparse_categorical_accuracy: 0.4290\n",
      "Epoch 34: early stopping\n"
     ]
    }
   ],
   "source": [
    "# early stopping을 이용한 모델 학습\n",
    "\n",
    "checkpoint_filepath = \"CNNbest.hdf5\" # 가중치 저장할 경로 지정\n",
    "\n",
    "# early stopping\n",
    "early_stop = tf.keras.callbacks.EarlyStopping(monitor='val_loss', min_delta=0, patience=10, verbose=1)\n",
    "\n",
    "# best model 저장\n",
    "save_best = tf.keras.callbacks.ModelCheckpoint(\n",
    "    filepath=checkpoint_filepath, monitor='val_loss', verbose=1, save_best_only=True,\n",
    "    save_weights_only=True, mode='auto', save_freq='epoch', options=None)\n",
    "\n",
    "# 학습\n",
    "results = cnn.fit(x = train_64, validation_data = val_64, \n",
    "                  batch_size=8, epochs=100, verbose=1,\n",
    "                  callbacks = [early_stop, save_best])\n",
    "\n",
    "\n",
    "# 1 epoch 학습 : 70초 / 전체 학습 시간 : 40분"
   ]
  },
  {
   "cell_type": "code",
   "execution_count": 94,
   "id": "01831af8",
   "metadata": {},
   "outputs": [],
   "source": [
    "# 모델별 평가지표 비교를 위한 Dataframe과 함수 만들기\n",
    "\n",
    "eval_table = pd.DataFrame(index=['Loss', 'Accuracy', 'Weighted F1'], \n",
    "                          columns=['Custom CNN', 'ResNet', 'EfficientNet'])\n",
    "\n",
    "# evaluate the model\n",
    "def model_score(model, val_dataset, column):\n",
    "    \n",
    "    predictions = model.predict(val_dataset)\n",
    "    predictions = np.argmax(predictions, axis = 1) # prediction 구할 시에 이 과정이 꼭 필요하다\n",
    "    f1 = f1_score(val_dataset.classes, predictions, average = 'weighted')\n",
    "    \n",
    "    loss, accuracy = model.evaluate(val_dataset, verbose=0)\n",
    "    eval_table[column] = [loss, accuracy, f1] \n",
    "\n",
    "    return eval_table"
   ]
  },
  {
   "cell_type": "code",
   "execution_count": 95,
   "id": "d08c9f5b",
   "metadata": {},
   "outputs": [
    {
     "name": "stdout",
     "output_type": "stream",
     "text": [
      "43/43 [==============================] - 3s 75ms/step\n"
     ]
    },
    {
     "data": {
      "text/html": [
       "<div>\n",
       "<style scoped>\n",
       "    .dataframe tbody tr th:only-of-type {\n",
       "        vertical-align: middle;\n",
       "    }\n",
       "\n",
       "    .dataframe tbody tr th {\n",
       "        vertical-align: top;\n",
       "    }\n",
       "\n",
       "    .dataframe thead th {\n",
       "        text-align: right;\n",
       "    }\n",
       "</style>\n",
       "<table border=\"1\" class=\"dataframe\">\n",
       "  <thead>\n",
       "    <tr style=\"text-align: right;\">\n",
       "      <th></th>\n",
       "      <th>Custom CNN</th>\n",
       "      <th>ResNet</th>\n",
       "      <th>EfficientNet</th>\n",
       "    </tr>\n",
       "  </thead>\n",
       "  <tbody>\n",
       "    <tr>\n",
       "      <th>Loss</th>\n",
       "      <td>2.0959</td>\n",
       "      <td>NaN</td>\n",
       "      <td>NaN</td>\n",
       "    </tr>\n",
       "    <tr>\n",
       "      <th>Accuracy</th>\n",
       "      <td>0.4290</td>\n",
       "      <td>NaN</td>\n",
       "      <td>NaN</td>\n",
       "    </tr>\n",
       "    <tr>\n",
       "      <th>Weighted F1</th>\n",
       "      <td>0.3999</td>\n",
       "      <td>NaN</td>\n",
       "      <td>NaN</td>\n",
       "    </tr>\n",
       "  </tbody>\n",
       "</table>\n",
       "</div>"
      ],
      "text/plain": [
       "             Custom CNN ResNet EfficientNet\n",
       "Loss             2.0959    NaN          NaN\n",
       "Accuracy         0.4290    NaN          NaN\n",
       "Weighted F1      0.3999    NaN          NaN"
      ]
     },
     "execution_count": 95,
     "metadata": {},
     "output_type": "execute_result"
    }
   ],
   "source": [
    "# 모델별 평가\n",
    "model_score(cnn, val_64, 'Custom CNN')"
   ]
  },
  {
   "cell_type": "markdown",
   "id": "985ac1a8",
   "metadata": {},
   "source": [
    "## 2.2 ResNet50V2"
   ]
  },
  {
   "cell_type": "code",
   "execution_count": 11,
   "id": "5541e29e",
   "metadata": {},
   "outputs": [
    {
     "name": "stdout",
     "output_type": "stream",
     "text": [
      "Found 2759 images belonging to 19 classes.\n",
      "Found 338 images belonging to 19 classes.\n"
     ]
    }
   ],
   "source": [
    "# ResNet의 올바른 input_shape 224*224\n",
    "# 이미지 불러오고 원하는 픽셀값으로 전처리\n",
    "\n",
    "# training set preprocessing\n",
    "training_gen224 = ImageDataGenerator(rescale=1./255,\n",
    "                                     rotation_range=7,\n",
    "                                     horizontal_flip=True,\n",
    "                                     zoom_range=0.2)\n",
    "\n",
    "train_224 = training_gen224.flow_from_directory('data_splited/train',\n",
    "                                                    target_size = (224, 224),\n",
    "                                                    batch_size = 32,\n",
    "                                                    class_mode = 'sparse',\n",
    "                                                    shuffle = True)\n",
    "\n",
    "# val set preprocessing\n",
    "val_gen224 = ImageDataGenerator(rescale=1./255)\n",
    "val_224 = val_gen224.flow_from_directory('data_splited/val',\n",
    "                                             target_size = (224, 224),\n",
    "                                             batch_size = 32,\n",
    "                                             class_mode = 'sparse',\n",
    "                                             shuffle = True)"
   ]
  },
  {
   "cell_type": "code",
   "execution_count": 22,
   "id": "2c2788d2",
   "metadata": {},
   "outputs": [],
   "source": [
    "# ResNet50 모델 불러오기\n",
    "# include_top=False : 사전학습된 가중치를 사용하되 마지막엔 coustom dense layer를 만들기 위해 설정\n",
    "resnet = ResNet50V2(include_top=False, weights='imagenet', input_shape=(224, 224, 3))"
   ]
  },
  {
   "cell_type": "code",
   "execution_count": 23,
   "id": "4337d4fc",
   "metadata": {},
   "outputs": [],
   "source": [
    "# Freezing resnet layers\n",
    "for layer in resnet.layers:\n",
    "  layer.trainable = False"
   ]
  },
  {
   "cell_type": "code",
   "execution_count": 24,
   "id": "b9527c23",
   "metadata": {},
   "outputs": [],
   "source": [
    "# resnet 모델의 끝부분에 추가할 custom layer 작성 \n",
    "res_layer = resnet.output \n",
    "res_layer = GlobalAveragePooling2D()(res_layer) # 가장 마지막층의 shape인 행렬을 벡터화\n",
    "res_layer = Dense(units = 1025, activation='relu')(res_layer)\n",
    "res_layer = Dropout(rate = 0.2)(res_layer)\n",
    "res_layer = Dense(units = 1025, activation='relu')(res_layer)\n",
    "res_layer = Dropout(rate = 0.2)(res_layer)\n",
    "res_layer = Dense(19, activation='softmax')(res_layer)"
   ]
  },
  {
   "cell_type": "code",
   "execution_count": 25,
   "id": "2eaccb70",
   "metadata": {},
   "outputs": [],
   "source": [
    "# resnet 모델에 custom layer 연결\n",
    "resnet_customed = Model(inputs = resnet.input, outputs = res_layer)"
   ]
  },
  {
   "cell_type": "code",
   "execution_count": 26,
   "id": "6aeda0d5",
   "metadata": {},
   "outputs": [],
   "source": [
    "# compile\n",
    "resnet_customed.compile(optimizer = 'adam', loss = 'sparse_categorical_crossentropy', metrics = [metrics.sparse_categorical_accuracy])"
   ]
  },
  {
   "cell_type": "code",
   "execution_count": 27,
   "id": "e70c49d1",
   "metadata": {},
   "outputs": [
    {
     "name": "stdout",
     "output_type": "stream",
     "text": [
      "Epoch 1/100\n",
      "173/173 [==============================] - ETA: 0s - loss: 1.4208 - sparse_categorical_accuracy: 0.5730\n",
      "Epoch 1: val_loss improved from inf to 1.09693, saving model to ResNetbest.hdf5\n",
      "173/173 [==============================] - 144s 814ms/step - loss: 1.4208 - sparse_categorical_accuracy: 0.5730 - val_loss: 1.0969 - val_sparse_categorical_accuracy: 0.6479\n",
      "Epoch 2/100\n",
      "173/173 [==============================] - ETA: 0s - loss: 1.0176 - sparse_categorical_accuracy: 0.6597\n",
      "Epoch 2: val_loss improved from 1.09693 to 1.05935, saving model to ResNetbest.hdf5\n",
      "173/173 [==============================] - 137s 793ms/step - loss: 1.0176 - sparse_categorical_accuracy: 0.6597 - val_loss: 1.0593 - val_sparse_categorical_accuracy: 0.6538\n",
      "Epoch 3/100\n",
      "173/173 [==============================] - ETA: 0s - loss: 0.8730 - sparse_categorical_accuracy: 0.7100\n",
      "Epoch 3: val_loss did not improve from 1.05935\n",
      "173/173 [==============================] - 137s 791ms/step - loss: 0.8730 - sparse_categorical_accuracy: 0.7100 - val_loss: 1.0924 - val_sparse_categorical_accuracy: 0.6627\n",
      "Epoch 4/100\n",
      "173/173 [==============================] - ETA: 0s - loss: 0.7680 - sparse_categorical_accuracy: 0.7332\n",
      "Epoch 4: val_loss improved from 1.05935 to 1.03558, saving model to ResNetbest.hdf5\n",
      "173/173 [==============================] - 137s 793ms/step - loss: 0.7680 - sparse_categorical_accuracy: 0.7332 - val_loss: 1.0356 - val_sparse_categorical_accuracy: 0.6657\n",
      "Epoch 5/100\n",
      "173/173 [==============================] - ETA: 0s - loss: 0.6653 - sparse_categorical_accuracy: 0.7720\n",
      "Epoch 5: val_loss did not improve from 1.03558\n",
      "173/173 [==============================] - 138s 796ms/step - loss: 0.6653 - sparse_categorical_accuracy: 0.7720 - val_loss: 1.0733 - val_sparse_categorical_accuracy: 0.6893\n",
      "Epoch 6/100\n",
      "173/173 [==============================] - ETA: 0s - loss: 0.6071 - sparse_categorical_accuracy: 0.7909\n",
      "Epoch 6: val_loss did not improve from 1.03558\n",
      "173/173 [==============================] - 138s 800ms/step - loss: 0.6071 - sparse_categorical_accuracy: 0.7909 - val_loss: 1.1007 - val_sparse_categorical_accuracy: 0.6686\n",
      "Epoch 7/100\n",
      "173/173 [==============================] - ETA: 0s - loss: 0.5291 - sparse_categorical_accuracy: 0.8246\n",
      "Epoch 7: val_loss did not improve from 1.03558\n",
      "173/173 [==============================] - 138s 798ms/step - loss: 0.5291 - sparse_categorical_accuracy: 0.8246 - val_loss: 1.0811 - val_sparse_categorical_accuracy: 0.6923\n",
      "Epoch 8/100\n",
      "173/173 [==============================] - ETA: 0s - loss: 0.4999 - sparse_categorical_accuracy: 0.8253\n",
      "Epoch 8: val_loss did not improve from 1.03558\n",
      "173/173 [==============================] - 138s 796ms/step - loss: 0.4999 - sparse_categorical_accuracy: 0.8253 - val_loss: 1.1891 - val_sparse_categorical_accuracy: 0.6953\n",
      "Epoch 9/100\n",
      "173/173 [==============================] - ETA: 0s - loss: 0.4448 - sparse_categorical_accuracy: 0.8492\n",
      "Epoch 9: val_loss did not improve from 1.03558\n",
      "173/173 [==============================] - 137s 793ms/step - loss: 0.4448 - sparse_categorical_accuracy: 0.8492 - val_loss: 1.3638 - val_sparse_categorical_accuracy: 0.6923\n",
      "Epoch 10/100\n",
      "173/173 [==============================] - ETA: 0s - loss: 0.4398 - sparse_categorical_accuracy: 0.8380\n",
      "Epoch 10: val_loss did not improve from 1.03558\n",
      "173/173 [==============================] - 138s 798ms/step - loss: 0.4398 - sparse_categorical_accuracy: 0.8380 - val_loss: 1.2323 - val_sparse_categorical_accuracy: 0.6982\n",
      "Epoch 11/100\n",
      "173/173 [==============================] - ETA: 0s - loss: 0.4060 - sparse_categorical_accuracy: 0.8601\n",
      "Epoch 11: val_loss did not improve from 1.03558\n",
      "173/173 [==============================] - 137s 795ms/step - loss: 0.4060 - sparse_categorical_accuracy: 0.8601 - val_loss: 1.2789 - val_sparse_categorical_accuracy: 0.6953\n",
      "Epoch 12/100\n",
      "173/173 [==============================] - ETA: 0s - loss: 0.3741 - sparse_categorical_accuracy: 0.8721\n",
      "Epoch 12: val_loss did not improve from 1.03558\n",
      "173/173 [==============================] - 136s 788ms/step - loss: 0.3741 - sparse_categorical_accuracy: 0.8721 - val_loss: 1.3335 - val_sparse_categorical_accuracy: 0.7012\n",
      "Epoch 13/100\n",
      "173/173 [==============================] - ETA: 0s - loss: 0.3734 - sparse_categorical_accuracy: 0.8670\n",
      "Epoch 13: val_loss did not improve from 1.03558\n",
      "173/173 [==============================] - 136s 786ms/step - loss: 0.3734 - sparse_categorical_accuracy: 0.8670 - val_loss: 1.3540 - val_sparse_categorical_accuracy: 0.6805\n",
      "Epoch 14/100\n",
      "173/173 [==============================] - ETA: 0s - loss: 0.3675 - sparse_categorical_accuracy: 0.8692\n",
      "Epoch 14: val_loss did not improve from 1.03558\n",
      "173/173 [==============================] - 136s 788ms/step - loss: 0.3675 - sparse_categorical_accuracy: 0.8692 - val_loss: 1.5591 - val_sparse_categorical_accuracy: 0.6686\n",
      "Epoch 14: early stopping\n"
     ]
    }
   ],
   "source": [
    "# early stopping을 이용한 모델 학습 \n",
    "\n",
    "checkpoint_filepath = \"ResNetbest.hdf5\" # 가중치 저장할 경로 지정\n",
    "\n",
    "# early stopping\n",
    "early_stop = tf.keras.callbacks.EarlyStopping(monitor='val_loss', min_delta=0, patience=10, verbose=1)\n",
    "\n",
    "# best model 저장\n",
    "save_best = tf.keras.callbacks.ModelCheckpoint(\n",
    "    filepath=checkpoint_filepath, monitor='val_loss', verbose=1, save_best_only=True,\n",
    "    save_weights_only=True, mode='auto', save_freq='epoch', options=None)\n",
    "\n",
    "# 학습\n",
    "results = resnet_customed.fit(x = train_224, validation_data = val_224, \n",
    "                  batch_size=32, epochs=100, verbose=1,\n",
    "                  callbacks = [early_stop, save_best])\n",
    "\n",
    "# 1 epoch 학습 : 2분 / 전체 학습 시간 : 28분"
   ]
  },
  {
   "cell_type": "code",
   "execution_count": 96,
   "id": "f49e5e43",
   "metadata": {},
   "outputs": [
    {
     "name": "stdout",
     "output_type": "stream",
     "text": [
      "22/22 [==============================] - 13s 559ms/step\n"
     ]
    },
    {
     "data": {
      "text/html": [
       "<div>\n",
       "<style scoped>\n",
       "    .dataframe tbody tr th:only-of-type {\n",
       "        vertical-align: middle;\n",
       "    }\n",
       "\n",
       "    .dataframe tbody tr th {\n",
       "        vertical-align: top;\n",
       "    }\n",
       "\n",
       "    .dataframe thead th {\n",
       "        text-align: right;\n",
       "    }\n",
       "</style>\n",
       "<table border=\"1\" class=\"dataframe\">\n",
       "  <thead>\n",
       "    <tr style=\"text-align: right;\">\n",
       "      <th></th>\n",
       "      <th>Custom CNN</th>\n",
       "      <th>ResNet</th>\n",
       "      <th>EfficientNet</th>\n",
       "    </tr>\n",
       "  </thead>\n",
       "  <tbody>\n",
       "    <tr>\n",
       "      <th>Loss</th>\n",
       "      <td>2.0959</td>\n",
       "      <td>2.0594</td>\n",
       "      <td>NaN</td>\n",
       "    </tr>\n",
       "    <tr>\n",
       "      <th>Accuracy</th>\n",
       "      <td>0.4290</td>\n",
       "      <td>0.7988</td>\n",
       "      <td>NaN</td>\n",
       "    </tr>\n",
       "    <tr>\n",
       "      <th>Weighted F1</th>\n",
       "      <td>0.3999</td>\n",
       "      <td>0.2321</td>\n",
       "      <td>NaN</td>\n",
       "    </tr>\n",
       "  </tbody>\n",
       "</table>\n",
       "</div>"
      ],
      "text/plain": [
       "             Custom CNN  ResNet EfficientNet\n",
       "Loss             2.0959  2.0594          NaN\n",
       "Accuracy         0.4290  0.7988          NaN\n",
       "Weighted F1      0.3999  0.2321          NaN"
      ]
     },
     "execution_count": 96,
     "metadata": {},
     "output_type": "execute_result"
    }
   ],
   "source": [
    "# 모델별 평가\n",
    "model_score(resnet_customed, val_224, 'ResNet')"
   ]
  },
  {
   "cell_type": "markdown",
   "id": "5990632c",
   "metadata": {},
   "source": [
    "## 2.3 EfficientNetV2B3"
   ]
  },
  {
   "cell_type": "code",
   "execution_count": 38,
   "id": "f508e0a5",
   "metadata": {},
   "outputs": [
    {
     "name": "stdout",
     "output_type": "stream",
     "text": [
      "Found 2759 images belonging to 19 classes.\n",
      "Found 338 images belonging to 19 classes.\n"
     ]
    }
   ],
   "source": [
    "# 해당 사전모델의 권장 input_shape은 300*300\n",
    "# 이미지 불러와 원하는 픽셀값으로 전처리\n",
    "\n",
    "# training set preprocessing\n",
    "training_gen300 = ImageDataGenerator(rescale=1./255,\n",
    "                                     rotation_range=7,\n",
    "                                     horizontal_flip=True,\n",
    "                                     zoom_range=0.2)\n",
    "\n",
    "train_300 = training_gen300.flow_from_directory('data_splited/train',\n",
    "                                                    target_size = (300, 300),\n",
    "                                                    batch_size = 15,\n",
    "                                                    class_mode = 'sparse',\n",
    "                                                    shuffle = True)\n",
    "\n",
    "# val set preprocessing\n",
    "val_gen300 = ImageDataGenerator(rescale=1./255)\n",
    "val_300 = val_gen300.flow_from_directory('data_splited/val',\n",
    "                                             target_size = (300, 300),\n",
    "                                             batch_size = 15,\n",
    "                                             class_mode = 'sparse',\n",
    "                                             shuffle = True)"
   ]
  },
  {
   "cell_type": "code",
   "execution_count": 39,
   "id": "6aed2381",
   "metadata": {},
   "outputs": [
    {
     "name": "stdout",
     "output_type": "stream",
     "text": [
      "Downloading data from https://storage.googleapis.com/tensorflow/keras-applications/efficientnet_v2/efficientnetv2-b2_notop.h5\n",
      "35839040/35839040 [==============================] - 3s 0us/step\n"
     ]
    }
   ],
   "source": [
    "# EfficientNetV2B3 모델 불러오기\n",
    "effinet = EfficientNetV2B2(include_top=False, weights='imagenet', input_shape=(300, 300, 3))"
   ]
  },
  {
   "cell_type": "code",
   "execution_count": 40,
   "id": "e67c7bda",
   "metadata": {},
   "outputs": [],
   "source": [
    "# Freezing effinet layers\n",
    "for layer in effinet.layers:\n",
    "  layer.trainable = False"
   ]
  },
  {
   "cell_type": "code",
   "execution_count": 41,
   "id": "49dc7dcd",
   "metadata": {},
   "outputs": [],
   "source": [
    "# effinet 모델의 끝부분에 추가할 custom layer 작성 \n",
    "effi_layer = GlobalAveragePooling2D()(effinet.output)\n",
    "effi_layer = Dense(units=1024, activation='relu')(effi_layer)\n",
    "effi_layer = Dropout(rate=0.5)(effi_layer)\n",
    "effi_layer = Dense(units=512, activation='relu')(effi_layer)\n",
    "effi_layer = Dropout(rate=0.5)(effi_layer)\n",
    "output = Dense(19, activation='softmax')(effi_layer)"
   ]
  },
  {
   "cell_type": "code",
   "execution_count": 42,
   "id": "36aeca37",
   "metadata": {},
   "outputs": [],
   "source": [
    "# effinet 모델에 custom layer 연결\n",
    "effinet_customed = Model(inputs = effinet.input, outputs = effi_layer)"
   ]
  },
  {
   "cell_type": "code",
   "execution_count": 43,
   "id": "7c1bd9b2",
   "metadata": {},
   "outputs": [],
   "source": [
    "# compile \n",
    "effinet_customed.compile(optimizer = 'adam', loss = 'sparse_categorical_crossentropy', metrics = [metrics.sparse_categorical_accuracy])"
   ]
  },
  {
   "cell_type": "code",
   "execution_count": 44,
   "id": "dc46075a",
   "metadata": {
    "scrolled": false
   },
   "outputs": [
    {
     "name": "stdout",
     "output_type": "stream",
     "text": [
      "Epoch 1/100\n",
      "184/184 [==============================] - ETA: 0s - loss: 8.9321 - sparse_categorical_accuracy: 0.2120\n",
      "Epoch 1: val_loss improved from inf to 9.44201, saving model to EffiNetbest.hdf5\n",
      "184/184 [==============================] - 211s 1s/step - loss: 8.9321 - sparse_categorical_accuracy: 0.2120 - val_loss: 9.4420 - val_sparse_categorical_accuracy: 0.4142\n",
      "Epoch 2/100\n",
      "184/184 [==============================] - ETA: 0s - loss: 8.1715 - sparse_categorical_accuracy: 0.1964\n",
      "Epoch 2: val_loss did not improve from 9.44201\n",
      "184/184 [==============================] - 201s 1s/step - loss: 8.1715 - sparse_categorical_accuracy: 0.1964 - val_loss: 9.4420 - val_sparse_categorical_accuracy: 0.4142\n",
      "Epoch 3/100\n",
      "184/184 [==============================] - ETA: 0s - loss: 8.2072 - sparse_categorical_accuracy: 0.1986\n",
      "Epoch 3: val_loss did not improve from 9.44201\n",
      "184/184 [==============================] - 197s 1s/step - loss: 8.2072 - sparse_categorical_accuracy: 0.1986 - val_loss: 9.4420 - val_sparse_categorical_accuracy: 0.4142\n",
      "Epoch 4/100\n",
      "184/184 [==============================] - ETA: 0s - loss: 8.0375 - sparse_categorical_accuracy: 0.2059\n",
      "Epoch 4: val_loss did not improve from 9.44201\n",
      "184/184 [==============================] - 200s 1s/step - loss: 8.0375 - sparse_categorical_accuracy: 0.2059 - val_loss: 9.4420 - val_sparse_categorical_accuracy: 0.4142\n",
      "Epoch 5/100\n",
      "184/184 [==============================] - ETA: 0s - loss: 7.9895 - sparse_categorical_accuracy: 0.2019\n",
      "Epoch 5: val_loss did not improve from 9.44201\n",
      "184/184 [==============================] - 204s 1s/step - loss: 7.9895 - sparse_categorical_accuracy: 0.2019 - val_loss: 9.4420 - val_sparse_categorical_accuracy: 0.4142\n",
      "Epoch 6/100\n",
      "184/184 [==============================] - ETA: 0s - loss: 7.8975 - sparse_categorical_accuracy: 0.2080\n",
      "Epoch 6: val_loss did not improve from 9.44201\n",
      "184/184 [==============================] - 198s 1s/step - loss: 7.8975 - sparse_categorical_accuracy: 0.2080 - val_loss: 9.4420 - val_sparse_categorical_accuracy: 0.4142\n",
      "Epoch 7/100\n",
      "184/184 [==============================] - ETA: 0s - loss: 7.9976 - sparse_categorical_accuracy: 0.2080\n",
      "Epoch 7: val_loss did not improve from 9.44201\n",
      "184/184 [==============================] - 201s 1s/step - loss: 7.9976 - sparse_categorical_accuracy: 0.2080 - val_loss: 9.4420 - val_sparse_categorical_accuracy: 0.4142\n",
      "Epoch 8/100\n",
      "184/184 [==============================] - ETA: 0s - loss: 8.0295 - sparse_categorical_accuracy: 0.2062\n",
      "Epoch 8: val_loss did not improve from 9.44201\n",
      "184/184 [==============================] - 203s 1s/step - loss: 8.0295 - sparse_categorical_accuracy: 0.2062 - val_loss: 9.4420 - val_sparse_categorical_accuracy: 0.4142\n",
      "Epoch 9/100\n",
      "184/184 [==============================] - ETA: 0s - loss: 7.9054 - sparse_categorical_accuracy: 0.2088\n",
      "Epoch 9: val_loss did not improve from 9.44201\n",
      "184/184 [==============================] - 200s 1s/step - loss: 7.9054 - sparse_categorical_accuracy: 0.2088 - val_loss: 9.4420 - val_sparse_categorical_accuracy: 0.4142\n",
      "Epoch 10/100\n",
      "184/184 [==============================] - ETA: 0s - loss: 8.0873 - sparse_categorical_accuracy: 0.1997\n",
      "Epoch 10: val_loss did not improve from 9.44201\n",
      "184/184 [==============================] - 195s 1s/step - loss: 8.0873 - sparse_categorical_accuracy: 0.1997 - val_loss: 9.4420 - val_sparse_categorical_accuracy: 0.4142\n",
      "Epoch 11/100\n",
      "184/184 [==============================] - ETA: 0s - loss: 7.8513 - sparse_categorical_accuracy: 0.2080\n",
      "Epoch 11: val_loss did not improve from 9.44201\n",
      "184/184 [==============================] - 197s 1s/step - loss: 7.8513 - sparse_categorical_accuracy: 0.2080 - val_loss: 9.4420 - val_sparse_categorical_accuracy: 0.4142\n",
      "Epoch 11: early stopping\n"
     ]
    }
   ],
   "source": [
    "# early stopping 이용한 모델 학습\n",
    "\n",
    "checkpoint_filepath = \"EffiNetbest.hdf5\" # 가중치 저장을 위한 경로 지정\n",
    "\n",
    "# early stopping\n",
    "early_stop = tf.keras.callbacks.EarlyStopping(monitor='val_loss', min_delta=0, patience=10, verbose=1)\n",
    "\n",
    "# best model 저장\n",
    "save_best = tf.keras.callbacks.ModelCheckpoint(\n",
    "    filepath=checkpoint_filepath, monitor='val_loss', verbose=1, save_best_only=True,\n",
    "    save_weights_only=True, mode='auto', save_freq='epoch', options=None)\n",
    "\n",
    "# 학습\n",
    "results = effinet_customed.fit(x = train_300, validation_data = val_300, \n",
    "                  batch_size=15, epochs=100, verbose=1,\n",
    "                  callbacks = [early_stop, save_best])\n",
    "\n",
    "# 1 epoch 학습 : 3분 / 전체 학습 시간 : 33분"
   ]
  },
  {
   "cell_type": "code",
   "execution_count": 97,
   "id": "09ad9a1e",
   "metadata": {
    "scrolled": false
   },
   "outputs": [
    {
     "name": "stdout",
     "output_type": "stream",
     "text": [
      "23/23 [==============================] - 18s 709ms/step\n"
     ]
    },
    {
     "data": {
      "text/html": [
       "<div>\n",
       "<style scoped>\n",
       "    .dataframe tbody tr th:only-of-type {\n",
       "        vertical-align: middle;\n",
       "    }\n",
       "\n",
       "    .dataframe tbody tr th {\n",
       "        vertical-align: top;\n",
       "    }\n",
       "\n",
       "    .dataframe thead th {\n",
       "        text-align: right;\n",
       "    }\n",
       "</style>\n",
       "<table border=\"1\" class=\"dataframe\">\n",
       "  <thead>\n",
       "    <tr style=\"text-align: right;\">\n",
       "      <th></th>\n",
       "      <th>Custom CNN</th>\n",
       "      <th>ResNet</th>\n",
       "      <th>EfficientNet</th>\n",
       "    </tr>\n",
       "  </thead>\n",
       "  <tbody>\n",
       "    <tr>\n",
       "      <th>Loss</th>\n",
       "      <td>2.0959</td>\n",
       "      <td>2.0594</td>\n",
       "      <td>9.4420</td>\n",
       "    </tr>\n",
       "    <tr>\n",
       "      <th>Accuracy</th>\n",
       "      <td>0.4290</td>\n",
       "      <td>0.7988</td>\n",
       "      <td>0.4142</td>\n",
       "    </tr>\n",
       "    <tr>\n",
       "      <th>Weighted F1</th>\n",
       "      <td>0.3999</td>\n",
       "      <td>0.2321</td>\n",
       "      <td>0.2426</td>\n",
       "    </tr>\n",
       "  </tbody>\n",
       "</table>\n",
       "</div>"
      ],
      "text/plain": [
       "             Custom CNN  ResNet  EfficientNet\n",
       "Loss             2.0959  2.0594        9.4420\n",
       "Accuracy         0.4290  0.7988        0.4142\n",
       "Weighted F1      0.3999  0.2321        0.2426"
      ]
     },
     "execution_count": 97,
     "metadata": {},
     "output_type": "execute_result"
    }
   ],
   "source": [
    "# 모델별 평가\n",
    "model_score(effinet_customed, val_300, 'EfficientNet')"
   ]
  },
  {
   "cell_type": "markdown",
   "id": "76887cfb",
   "metadata": {},
   "source": [
    "# 3. Fine Tuning"
   ]
  },
  {
   "cell_type": "code",
   "execution_count": 46,
   "id": "c3db1efd",
   "metadata": {},
   "outputs": [],
   "source": [
    "# unfreezing resnet\n",
    "resnet.trainable = True"
   ]
  },
  {
   "cell_type": "code",
   "execution_count": 47,
   "id": "8f86f42c",
   "metadata": {},
   "outputs": [
    {
     "data": {
      "text/plain": [
       "190"
      ]
     },
     "execution_count": 47,
     "metadata": {},
     "output_type": "execute_result"
    }
   ],
   "source": [
    "# resnet 레이어 수 확인\n",
    "len(resnet.layers)"
   ]
  },
  {
   "cell_type": "code",
   "execution_count": 48,
   "id": "b01908b7",
   "metadata": {},
   "outputs": [],
   "source": [
    "# 처음 160개 모델까지 freeze, 161번부터 나머지 모델은 unfreeze\n",
    "for layer in resnet.layers[:160]:\n",
    "  layer.trainable = False"
   ]
  },
  {
   "cell_type": "code",
   "execution_count": 49,
   "id": "d5e8adb1",
   "metadata": {},
   "outputs": [],
   "source": [
    "# compile \n",
    "resnet_customed.compile(optimizer = 'adam', loss = 'sparse_categorical_crossentropy', metrics = [metrics.sparse_categorical_accuracy])"
   ]
  },
  {
   "cell_type": "code",
   "execution_count": 50,
   "id": "cc99fd74",
   "metadata": {},
   "outputs": [
    {
     "name": "stdout",
     "output_type": "stream",
     "text": [
      "Epoch 1/100\n",
      "173/173 [==============================] - ETA: 0s - loss: 1.4482 - sparse_categorical_accuracy: 0.5640\n",
      "Epoch 1: val_loss improved from inf to 2.14326, saving model to ResNetbest_finetuning.hdf5\n",
      "173/173 [==============================] - 217s 1s/step - loss: 1.4482 - sparse_categorical_accuracy: 0.5640 - val_loss: 2.1433 - val_sparse_categorical_accuracy: 0.5947\n",
      "Epoch 2/100\n",
      "173/173 [==============================] - ETA: 0s - loss: 1.0700 - sparse_categorical_accuracy: 0.6680\n",
      "Epoch 2: val_loss improved from 2.14326 to 1.30570, saving model to ResNetbest_finetuning.hdf5\n",
      "173/173 [==============================] - 215s 1s/step - loss: 1.0700 - sparse_categorical_accuracy: 0.6680 - val_loss: 1.3057 - val_sparse_categorical_accuracy: 0.5769\n",
      "Epoch 3/100\n",
      "173/173 [==============================] - ETA: 0s - loss: 0.8803 - sparse_categorical_accuracy: 0.7202\n",
      "Epoch 3: val_loss did not improve from 1.30570\n",
      "173/173 [==============================] - 201s 1s/step - loss: 0.8803 - sparse_categorical_accuracy: 0.7202 - val_loss: 1.6679 - val_sparse_categorical_accuracy: 0.6864\n",
      "Epoch 4/100\n",
      "173/173 [==============================] - ETA: 0s - loss: 0.7022 - sparse_categorical_accuracy: 0.7771\n",
      "Epoch 4: val_loss improved from 1.30570 to 1.05677, saving model to ResNetbest_finetuning.hdf5\n",
      "173/173 [==============================] - 207s 1s/step - loss: 0.7022 - sparse_categorical_accuracy: 0.7771 - val_loss: 1.0568 - val_sparse_categorical_accuracy: 0.7071\n",
      "Epoch 5/100\n",
      "173/173 [==============================] - ETA: 0s - loss: 0.6017 - sparse_categorical_accuracy: 0.8130\n",
      "Epoch 5: val_loss did not improve from 1.05677\n",
      "173/173 [==============================] - 210s 1s/step - loss: 0.6017 - sparse_categorical_accuracy: 0.8130 - val_loss: 1.1184 - val_sparse_categorical_accuracy: 0.6893\n",
      "Epoch 6/100\n",
      "173/173 [==============================] - ETA: 0s - loss: 0.4842 - sparse_categorical_accuracy: 0.8441\n",
      "Epoch 6: val_loss did not improve from 1.05677\n",
      "173/173 [==============================] - 208s 1s/step - loss: 0.4842 - sparse_categorical_accuracy: 0.8441 - val_loss: 1.3155 - val_sparse_categorical_accuracy: 0.7278\n",
      "Epoch 7/100\n",
      "173/173 [==============================] - ETA: 0s - loss: 0.4595 - sparse_categorical_accuracy: 0.8478\n",
      "Epoch 7: val_loss improved from 1.05677 to 0.94916, saving model to ResNetbest_finetuning.hdf5\n",
      "173/173 [==============================] - 208s 1s/step - loss: 0.4595 - sparse_categorical_accuracy: 0.8478 - val_loss: 0.9492 - val_sparse_categorical_accuracy: 0.7426\n",
      "Epoch 8/100\n",
      "173/173 [==============================] - ETA: 0s - loss: 0.3877 - sparse_categorical_accuracy: 0.8677\n",
      "Epoch 8: val_loss did not improve from 0.94916\n",
      "173/173 [==============================] - 215s 1s/step - loss: 0.3877 - sparse_categorical_accuracy: 0.8677 - val_loss: 1.2787 - val_sparse_categorical_accuracy: 0.7219\n",
      "Epoch 9/100\n",
      "173/173 [==============================] - ETA: 0s - loss: 0.3610 - sparse_categorical_accuracy: 0.8753\n",
      "Epoch 9: val_loss improved from 0.94916 to 0.94544, saving model to ResNetbest_finetuning.hdf5\n",
      "173/173 [==============================] - 218s 1s/step - loss: 0.3610 - sparse_categorical_accuracy: 0.8753 - val_loss: 0.9454 - val_sparse_categorical_accuracy: 0.7840\n",
      "Epoch 10/100\n",
      "173/173 [==============================] - ETA: 0s - loss: 0.3276 - sparse_categorical_accuracy: 0.8920\n",
      "Epoch 10: val_loss improved from 0.94544 to 0.91454, saving model to ResNetbest_finetuning.hdf5\n",
      "173/173 [==============================] - 201s 1s/step - loss: 0.3276 - sparse_categorical_accuracy: 0.8920 - val_loss: 0.9145 - val_sparse_categorical_accuracy: 0.7663\n",
      "Epoch 11/100\n",
      "173/173 [==============================] - ETA: 0s - loss: 0.2679 - sparse_categorical_accuracy: 0.9065\n",
      "Epoch 11: val_loss did not improve from 0.91454\n",
      "173/173 [==============================] - 197s 1s/step - loss: 0.2679 - sparse_categorical_accuracy: 0.9065 - val_loss: 1.1101 - val_sparse_categorical_accuracy: 0.7663\n",
      "Epoch 12/100\n",
      "173/173 [==============================] - ETA: 0s - loss: 0.2651 - sparse_categorical_accuracy: 0.9137\n",
      "Epoch 12: val_loss did not improve from 0.91454\n",
      "173/173 [==============================] - 195s 1s/step - loss: 0.2651 - sparse_categorical_accuracy: 0.9137 - val_loss: 0.9635 - val_sparse_categorical_accuracy: 0.7870\n",
      "Epoch 13/100\n",
      "173/173 [==============================] - ETA: 0s - loss: 0.2367 - sparse_categorical_accuracy: 0.9246\n",
      "Epoch 13: val_loss did not improve from 0.91454\n",
      "173/173 [==============================] - 196s 1s/step - loss: 0.2367 - sparse_categorical_accuracy: 0.9246 - val_loss: 1.1225 - val_sparse_categorical_accuracy: 0.7811\n",
      "Epoch 14/100\n",
      "173/173 [==============================] - ETA: 0s - loss: 0.2465 - sparse_categorical_accuracy: 0.9217\n",
      "Epoch 14: val_loss did not improve from 0.91454\n",
      "173/173 [==============================] - 197s 1s/step - loss: 0.2465 - sparse_categorical_accuracy: 0.9217 - val_loss: 0.9986 - val_sparse_categorical_accuracy: 0.7870\n",
      "Epoch 15/100\n",
      "173/173 [==============================] - ETA: 0s - loss: 0.2605 - sparse_categorical_accuracy: 0.9145\n",
      "Epoch 15: val_loss did not improve from 0.91454\n",
      "173/173 [==============================] - 196s 1s/step - loss: 0.2605 - sparse_categorical_accuracy: 0.9145 - val_loss: 1.2355 - val_sparse_categorical_accuracy: 0.7840\n",
      "Epoch 16/100\n",
      "173/173 [==============================] - ETA: 0s - loss: 0.2205 - sparse_categorical_accuracy: 0.9300\n",
      "Epoch 16: val_loss did not improve from 0.91454\n",
      "173/173 [==============================] - 196s 1s/step - loss: 0.2205 - sparse_categorical_accuracy: 0.9300 - val_loss: 0.9851 - val_sparse_categorical_accuracy: 0.8018\n",
      "Epoch 17/100\n",
      "173/173 [==============================] - ETA: 0s - loss: 0.1361 - sparse_categorical_accuracy: 0.9507\n",
      "Epoch 17: val_loss did not improve from 0.91454\n",
      "173/173 [==============================] - 196s 1s/step - loss: 0.1361 - sparse_categorical_accuracy: 0.9507 - val_loss: 1.3005 - val_sparse_categorical_accuracy: 0.7663\n",
      "Epoch 18/100\n",
      "173/173 [==============================] - ETA: 0s - loss: 0.1803 - sparse_categorical_accuracy: 0.9409\n",
      "Epoch 18: val_loss did not improve from 0.91454\n",
      "173/173 [==============================] - 198s 1s/step - loss: 0.1803 - sparse_categorical_accuracy: 0.9409 - val_loss: 1.3068 - val_sparse_categorical_accuracy: 0.7515\n",
      "Epoch 19/100\n",
      "173/173 [==============================] - ETA: 0s - loss: 0.1805 - sparse_categorical_accuracy: 0.9416\n",
      "Epoch 19: val_loss did not improve from 0.91454\n",
      "173/173 [==============================] - 196s 1s/step - loss: 0.1805 - sparse_categorical_accuracy: 0.9416 - val_loss: 1.1902 - val_sparse_categorical_accuracy: 0.7840\n",
      "Epoch 20/100\n",
      "173/173 [==============================] - ETA: 0s - loss: 0.1412 - sparse_categorical_accuracy: 0.9543\n",
      "Epoch 20: val_loss did not improve from 0.91454\n",
      "173/173 [==============================] - 196s 1s/step - loss: 0.1412 - sparse_categorical_accuracy: 0.9543 - val_loss: 1.1624 - val_sparse_categorical_accuracy: 0.7899\n",
      "Epoch 20: early stopping\n"
     ]
    }
   ],
   "source": [
    "# finetuning에서도 early stopping 학습 적용\n",
    "\n",
    "checkpoint_filepath = \"ResNetbest_finetuning.hdf5\" # 가중치 저장을 위한 경로 지정\n",
    "\n",
    "# early stopping\n",
    "early_stop = tf.keras.callbacks.EarlyStopping(monitor='val_loss', min_delta=0, patience=10, verbose=1)\n",
    "\n",
    "# best model 저장\n",
    "save_best = tf.keras.callbacks.ModelCheckpoint(\n",
    "    filepath=checkpoint_filepath, monitor='val_loss', verbose=1, save_best_only=True,\n",
    "    save_weights_only=True, mode='auto', save_freq='epoch', options=None)\n",
    "\n",
    "# 학습\n",
    "results = resnet_customed.fit(x = train_224, validation_data = val_224, \n",
    "                  batch_size=16, epochs=100, verbose=1,\n",
    "                  callbacks = [early_stop, save_best])\n",
    "\n",
    "# 1 epoch 학습 : 3분 30초 / 전체 학습 시간 : 1시간 10분"
   ]
  },
  {
   "cell_type": "markdown",
   "id": "e1587be3",
   "metadata": {},
   "source": [
    "# 4. Hyperparameter Tuning"
   ]
  },
  {
   "cell_type": "code",
   "execution_count": 54,
   "id": "9661bad2",
   "metadata": {
    "scrolled": false
   },
   "outputs": [
    {
     "name": "stdout",
     "output_type": "stream",
     "text": [
      "Trial 4 Complete [02h 59m 03s]\n",
      "val_loss: 1.2149487733840942\n",
      "\n",
      "Best val_loss So Far: 1.2149487733840942\n",
      "Total elapsed time: 02h 59m 03s\n",
      "INFO:tensorflow:Oracle triggered exit\n",
      "Epoch 1/100\n",
      "173/173 [==============================] - ETA: 0s - loss: 0.0535 - sparse_categorical_accuracy: 0.9851\n",
      "Epoch 1: val_loss did not improve from 0.91454\n",
      "173/173 [==============================] - 225s 1s/step - loss: 0.0535 - sparse_categorical_accuracy: 0.9851 - val_loss: 2.4136 - val_sparse_categorical_accuracy: 0.8018\n",
      "Epoch 2/100\n",
      "173/173 [==============================] - ETA: 0s - loss: 0.0630 - sparse_categorical_accuracy: 0.9851\n",
      "Epoch 2: val_loss did not improve from 0.91454\n",
      "173/173 [==============================] - 225s 1s/step - loss: 0.0630 - sparse_categorical_accuracy: 0.9851 - val_loss: 2.2464 - val_sparse_categorical_accuracy: 0.7811\n",
      "Epoch 3/100\n",
      "173/173 [==============================] - ETA: 0s - loss: 0.0968 - sparse_categorical_accuracy: 0.9808\n",
      "Epoch 3: val_loss did not improve from 0.91454\n",
      "173/173 [==============================] - 229s 1s/step - loss: 0.0968 - sparse_categorical_accuracy: 0.9808 - val_loss: 2.2812 - val_sparse_categorical_accuracy: 0.7751\n",
      "Epoch 4/100\n",
      "173/173 [==============================] - ETA: 0s - loss: 0.0657 - sparse_categorical_accuracy: 0.9913\n",
      "Epoch 4: val_loss did not improve from 0.91454\n",
      "173/173 [==============================] - 226s 1s/step - loss: 0.0657 - sparse_categorical_accuracy: 0.9913 - val_loss: 1.8777 - val_sparse_categorical_accuracy: 0.7840\n",
      "Epoch 5/100\n",
      "173/173 [==============================] - ETA: 0s - loss: 0.0506 - sparse_categorical_accuracy: 0.9880\n",
      "Epoch 5: val_loss did not improve from 0.91454\n",
      "173/173 [==============================] - 222s 1s/step - loss: 0.0506 - sparse_categorical_accuracy: 0.9880 - val_loss: 2.2267 - val_sparse_categorical_accuracy: 0.8077\n",
      "Epoch 6/100\n",
      "173/173 [==============================] - ETA: 0s - loss: 0.0595 - sparse_categorical_accuracy: 0.9870\n",
      "Epoch 6: val_loss did not improve from 0.91454\n",
      "173/173 [==============================] - 225s 1s/step - loss: 0.0595 - sparse_categorical_accuracy: 0.9870 - val_loss: 2.0601 - val_sparse_categorical_accuracy: 0.7811\n",
      "Epoch 7/100\n",
      "173/173 [==============================] - ETA: 0s - loss: 0.0700 - sparse_categorical_accuracy: 0.9815\n",
      "Epoch 7: val_loss did not improve from 0.91454\n",
      "173/173 [==============================] - 224s 1s/step - loss: 0.0700 - sparse_categorical_accuracy: 0.9815 - val_loss: 2.6560 - val_sparse_categorical_accuracy: 0.7870\n",
      "Epoch 8/100\n",
      "173/173 [==============================] - ETA: 0s - loss: 0.0872 - sparse_categorical_accuracy: 0.9855\n",
      "Epoch 8: val_loss did not improve from 0.91454\n",
      "173/173 [==============================] - 236s 1s/step - loss: 0.0872 - sparse_categorical_accuracy: 0.9855 - val_loss: 1.8606 - val_sparse_categorical_accuracy: 0.8047\n",
      "Epoch 9/100\n",
      "173/173 [==============================] - ETA: 0s - loss: 0.0727 - sparse_categorical_accuracy: 0.9873\n",
      "Epoch 9: val_loss did not improve from 0.91454\n",
      "173/173 [==============================] - 218s 1s/step - loss: 0.0727 - sparse_categorical_accuracy: 0.9873 - val_loss: 1.8791 - val_sparse_categorical_accuracy: 0.7870\n",
      "Epoch 10/100\n",
      "173/173 [==============================] - ETA: 0s - loss: 0.0496 - sparse_categorical_accuracy: 0.9877\n",
      "Epoch 10: val_loss did not improve from 0.91454\n",
      "173/173 [==============================] - 203s 1s/step - loss: 0.0496 - sparse_categorical_accuracy: 0.9877 - val_loss: 2.0667 - val_sparse_categorical_accuracy: 0.7988\n",
      "Epoch 11/100\n",
      "173/173 [==============================] - ETA: 0s - loss: 0.0373 - sparse_categorical_accuracy: 0.9880\n",
      "Epoch 11: val_loss did not improve from 0.91454\n",
      "173/173 [==============================] - 199s 1s/step - loss: 0.0373 - sparse_categorical_accuracy: 0.9880 - val_loss: 2.3273 - val_sparse_categorical_accuracy: 0.7811\n",
      "Epoch 12/100\n",
      "173/173 [==============================] - ETA: 0s - loss: 0.0804 - sparse_categorical_accuracy: 0.9826\n",
      "Epoch 12: val_loss did not improve from 0.91454\n",
      "173/173 [==============================] - 207s 1s/step - loss: 0.0804 - sparse_categorical_accuracy: 0.9826 - val_loss: 1.9745 - val_sparse_categorical_accuracy: 0.7781\n",
      "Epoch 13/100\n",
      "173/173 [==============================] - ETA: 0s - loss: 0.0652 - sparse_categorical_accuracy: 0.9851\n",
      "Epoch 13: val_loss did not improve from 0.91454\n",
      "173/173 [==============================] - 210s 1s/step - loss: 0.0652 - sparse_categorical_accuracy: 0.9851 - val_loss: 1.8781 - val_sparse_categorical_accuracy: 0.7870\n",
      "Epoch 14/100\n",
      "173/173 [==============================] - ETA: 0s - loss: 0.0623 - sparse_categorical_accuracy: 0.9873\n",
      "Epoch 14: val_loss did not improve from 0.91454\n",
      "173/173 [==============================] - 225s 1s/step - loss: 0.0623 - sparse_categorical_accuracy: 0.9873 - val_loss: 1.7711 - val_sparse_categorical_accuracy: 0.8047\n",
      "Epoch 15/100\n",
      "173/173 [==============================] - ETA: 0s - loss: 0.0679 - sparse_categorical_accuracy: 0.9833\n",
      "Epoch 15: val_loss did not improve from 0.91454\n",
      "173/173 [==============================] - 230s 1s/step - loss: 0.0679 - sparse_categorical_accuracy: 0.9833 - val_loss: 1.5832 - val_sparse_categorical_accuracy: 0.7840\n",
      "Epoch 16/100\n",
      "173/173 [==============================] - ETA: 0s - loss: 0.0576 - sparse_categorical_accuracy: 0.9877\n",
      "Epoch 16: val_loss did not improve from 0.91454\n",
      "173/173 [==============================] - 224s 1s/step - loss: 0.0576 - sparse_categorical_accuracy: 0.9877 - val_loss: 2.0089 - val_sparse_categorical_accuracy: 0.7751\n",
      "Epoch 17/100\n",
      "173/173 [==============================] - ETA: 0s - loss: 0.0340 - sparse_categorical_accuracy: 0.9917\n",
      "Epoch 17: val_loss did not improve from 0.91454\n",
      "173/173 [==============================] - 228s 1s/step - loss: 0.0340 - sparse_categorical_accuracy: 0.9917 - val_loss: 1.7740 - val_sparse_categorical_accuracy: 0.8077\n",
      "Epoch 18/100\n",
      "173/173 [==============================] - ETA: 0s - loss: 0.0549 - sparse_categorical_accuracy: 0.9924\n",
      "Epoch 18: val_loss did not improve from 0.91454\n",
      "173/173 [==============================] - 224s 1s/step - loss: 0.0549 - sparse_categorical_accuracy: 0.9924 - val_loss: 1.8495 - val_sparse_categorical_accuracy: 0.7899\n",
      "Epoch 19/100\n",
      "173/173 [==============================] - ETA: 0s - loss: 0.0470 - sparse_categorical_accuracy: 0.9877\n",
      "Epoch 19: val_loss did not improve from 0.91454\n",
      "173/173 [==============================] - 228s 1s/step - loss: 0.0470 - sparse_categorical_accuracy: 0.9877 - val_loss: 2.0032 - val_sparse_categorical_accuracy: 0.7811\n",
      "Epoch 20/100\n",
      "173/173 [==============================] - ETA: 0s - loss: 0.0401 - sparse_categorical_accuracy: 0.9895\n",
      "Epoch 20: val_loss did not improve from 0.91454\n",
      "173/173 [==============================] - 229s 1s/step - loss: 0.0401 - sparse_categorical_accuracy: 0.9895 - val_loss: 2.0503 - val_sparse_categorical_accuracy: 0.7929\n",
      "Epoch 21/100\n",
      "173/173 [==============================] - ETA: 0s - loss: 0.0420 - sparse_categorical_accuracy: 0.9895\n",
      "Epoch 21: val_loss did not improve from 0.91454\n",
      "173/173 [==============================] - 231s 1s/step - loss: 0.0420 - sparse_categorical_accuracy: 0.9895 - val_loss: 2.3175 - val_sparse_categorical_accuracy: 0.7840\n",
      "Epoch 22/100\n",
      "173/173 [==============================] - ETA: 0s - loss: 0.0590 - sparse_categorical_accuracy: 0.9877\n",
      "Epoch 22: val_loss did not improve from 0.91454\n",
      "173/173 [==============================] - 231s 1s/step - loss: 0.0590 - sparse_categorical_accuracy: 0.9877 - val_loss: 1.6911 - val_sparse_categorical_accuracy: 0.8225\n",
      "Epoch 23/100\n",
      "173/173 [==============================] - ETA: 0s - loss: 0.0157 - sparse_categorical_accuracy: 0.9946\n",
      "Epoch 23: val_loss did not improve from 0.91454\n",
      "173/173 [==============================] - 231s 1s/step - loss: 0.0157 - sparse_categorical_accuracy: 0.9946 - val_loss: 2.1312 - val_sparse_categorical_accuracy: 0.8047\n",
      "Epoch 24/100\n",
      "173/173 [==============================] - ETA: 0s - loss: 0.0550 - sparse_categorical_accuracy: 0.9888\n",
      "Epoch 24: val_loss did not improve from 0.91454\n",
      "173/173 [==============================] - 231s 1s/step - loss: 0.0550 - sparse_categorical_accuracy: 0.9888 - val_loss: 1.6624 - val_sparse_categorical_accuracy: 0.7988\n"
     ]
    },
    {
     "name": "stdout",
     "output_type": "stream",
     "text": [
      "Epoch 25/100\n",
      "173/173 [==============================] - ETA: 0s - loss: 0.0402 - sparse_categorical_accuracy: 0.9866\n",
      "Epoch 25: val_loss did not improve from 0.91454\n",
      "173/173 [==============================] - 228s 1s/step - loss: 0.0402 - sparse_categorical_accuracy: 0.9866 - val_loss: 2.0594 - val_sparse_categorical_accuracy: 0.7988\n",
      "Epoch 25: early stopping\n"
     ]
    }
   ],
   "source": [
    "# 하이퍼파라미터 탐색을 위한 함수 지정\n",
    "def build_hypermodel(hp):\n",
    "    \n",
    "    # set the learning rate\n",
    "    lr = hp.Choice('learning_rate', values=[1e-4, 1e-3, 1e-2])\n",
    "    \n",
    "    # set the optimizer\n",
    "    optimizer = hp.Choice('optimizer', values=['adam', 'rmsprop', 'sgd'])\n",
    "    \n",
    "    # batch_size는 학습시간에 영향을 많이 주어 임의로 결정했으므로 탐색하지 않는다\n",
    "    # set the batch size\n",
    "    #batch_size = hp.Choice('batch_size', values=[16, 32, 64])\n",
    "    \n",
    "    # compile the model with the hyperparameters\n",
    "    resnet_customed.compile(optimizer=optimizer, loss='sparse_categorical_crossentropy',\n",
    "                            metrics=['sparse_categorical_accuracy'])\n",
    "    \n",
    "    return resnet_customed\n",
    "\n",
    "# define tuner \n",
    "# max_trials은 총 try 횟수를 말하는 것으로 10번을 선택하면 search를 10번 하게 된다\n",
    "# 다만 BayesianOptimization은 이전보다 나은 결과를 위해 추가적인 탐색을 진행한다\n",
    "# 결과적으로 max_trial을 1번으로 설정했음에도 총 4번을 진행했다\n",
    "tuner = BayesianOptimization(\n",
    "    build_hypermodel,\n",
    "    objective='val_loss',\n",
    "    max_trials=1,\n",
    "    directory='resnet_tuning',\n",
    "    project_name='bayesian_opt'\n",
    ")\n",
    "\n",
    "# search best hyperparameters\n",
    "tuner.search(x=train_224, validation_data=val_224, batch_size=32, epochs=50, verbose=1)\n",
    "\n",
    "# get best hyperparameters\n",
    "best_hps = tuner.get_best_hyperparameters(num_trials=1)[0]\n",
    "\n",
    "# build model with best hyperparameters\n",
    "resnet_customed = tuner.hypermodel.build(best_hps)\n",
    "\n",
    "# fit the model with best hyperparameters\n",
    "results = resnet_customed.fit(x=train_224, validation_data=val_224, \n",
    "                    batch_size=best_hps.get('batch_size'), epochs=50, verbose=1,\n",
    "                    callbacks=[early_stop, save_best])\n",
    "\n",
    "# 1 epoch 학습 : 3분 20초 / 전체 학습 시간 : 3시간"
   ]
  },
  {
   "cell_type": "code",
   "execution_count": 55,
   "id": "26a06e82",
   "metadata": {
    "scrolled": false
   },
   "outputs": [
    {
     "name": "stdout",
     "output_type": "stream",
     "text": [
      "Results summary\n",
      "Results in resnet_tuning\\bayesian_opt\n",
      "Showing 10 best trials\n",
      "Objective(name=\"val_loss\", direction=\"min\")\n",
      "\n",
      "Trial 03 summary\n",
      "Hyperparameters:\n",
      "learning_rate: 0.001\n",
      "optimizer: adam\n",
      "batch_size: 16\n",
      "Score: 1.2149487733840942\n",
      "\n",
      "Trial 01 summary\n",
      "Hyperparameters:\n",
      "learning_rate: 0.01\n",
      "optimizer: adam\n",
      "batch_size: 32\n",
      "Score: 1.3746815919876099\n",
      "\n",
      "Trial 02 summary\n",
      "Hyperparameters:\n",
      "learning_rate: 0.01\n",
      "optimizer: sgd\n",
      "batch_size: 32\n",
      "Score: 1.6853244304656982\n",
      "\n",
      "Trial 00 summary\n",
      "Hyperparameters:\n",
      "learning_rate: 0.01\n",
      "optimizer: rmsprop\n",
      "batch_size: 64\n",
      "Score: 1.721341609954834\n"
     ]
    }
   ],
   "source": [
    "# 하이퍼파라미터 탐색 결과 확인\n",
    "tuner.results_summary()"
   ]
  },
  {
   "cell_type": "code",
   "execution_count": 72,
   "id": "7d8072f8",
   "metadata": {},
   "outputs": [
    {
     "name": "stdout",
     "output_type": "stream",
     "text": [
      "2.059438943862915\n",
      "0.7988165616989136\n"
     ]
    }
   ],
   "source": [
    "# 두번의 튜닝을 끝낸 최종 모델의 validation 평가지표 확인\n",
    "loss, accuracy = resnet_customed.evaluate(val_224, verbose=0)\n",
    "print(loss)\n",
    "print(accuracy)"
   ]
  },
  {
   "cell_type": "markdown",
   "id": "02169f87",
   "metadata": {},
   "source": [
    "# Saving and Loading the Model"
   ]
  },
  {
   "cell_type": "code",
   "execution_count": 56,
   "id": "c9199ae1",
   "metadata": {},
   "outputs": [],
   "source": [
    "# 모델 저장\n",
    "model_json = resnet_customed.to_json()\n",
    "with open('resnet_customed.json','w') as json_file:\n",
    "  json_file.write(model_json)"
   ]
  },
  {
   "cell_type": "code",
   "execution_count": 58,
   "id": "02f11e65",
   "metadata": {},
   "outputs": [],
   "source": [
    "# 가중치 저장\n",
    "network_saved = save_model(resnet_customed, 'ResNetbest_final.hdf5')"
   ]
  },
  {
   "cell_type": "code",
   "execution_count": 3,
   "id": "357eceea",
   "metadata": {},
   "outputs": [],
   "source": [
    "# ====================================모델 학습 후에는 이 cell부터 작업하면 된다\n",
    "with open('resnet_customed.json', 'r') as json_file:\n",
    "  json_saved_model = json_file.read()\n",
    "\n",
    "model_loaded = tf.keras.models.model_from_json(json_saved_model)\n",
    "model_loaded.load_weights('ResNetbest_final.hdf5')\n",
    "model_loaded.compile(optimizer = 'adam', loss = 'sparse_categorical_crossentropy', metrics = [metrics.sparse_categorical_accuracy])"
   ]
  },
  {
   "cell_type": "code",
   "execution_count": 4,
   "id": "a6ea8fb9",
   "metadata": {},
   "outputs": [
    {
     "data": {
      "text/plain": [
       "<keras.engine.functional.Functional at 0x25ad2711810>"
      ]
     },
     "execution_count": 4,
     "metadata": {},
     "output_type": "execute_result"
    }
   ],
   "source": [
    "# 불러온 모델 확인\n",
    "model_loaded"
   ]
  },
  {
   "cell_type": "markdown",
   "id": "d3ab8996",
   "metadata": {},
   "source": [
    "# 4. Single Image Test"
   ]
  },
  {
   "cell_type": "code",
   "execution_count": 63,
   "id": "84c81dae",
   "metadata": {},
   "outputs": [],
   "source": [
    "# 예측 후 class명을 정수에서 이름으로 바꿔주는 dictionary\n",
    "dict = train_224.class_indices\n",
    "dict = {v:k for k,v in dict.items()} # key와 value를 바꾸어준다\n",
    "\n",
    "# 이미지를 모델에 넣으면 해당 이미지를 보여준 후 분류하는 함수 지정\n",
    "def show_and_classify(path):\n",
    "    \n",
    "    image = cv2.imread(path) # 이미지 불러오기\n",
    "\n",
    "    image = cv2.resize(image, (224, 224)) # 픽셀값 조정\n",
    "    \n",
    "    cv2.imshow('image', image) # show the image\n",
    "    cv2.waitKey(0) \n",
    "    cv2.destroyAllWindows() \n",
    "    \n",
    "    # 전처리\n",
    "    image = image / 255 # 정규화\n",
    "    image = image.reshape(-1, 224, 224, 3) # 모델 입력을 위한 차원 확장\n",
    "    \n",
    "    result = np.argmax(model_loaded(image))\n",
    "    \n",
    "    return dict[result]    "
   ]
  },
  {
   "cell_type": "code",
   "execution_count": 76,
   "id": "f0fbc0b2",
   "metadata": {},
   "outputs": [],
   "source": [
    "# 이미지 경로 지정\n",
    "single1 = 'single_test_data/single1.jpg'\n",
    "single2 = 'single_test_data/single2.jpg'\n",
    "single5 = 'single_test_data/single5.jpg'"
   ]
  },
  {
   "cell_type": "code",
   "execution_count": 65,
   "id": "17db3d7c",
   "metadata": {},
   "outputs": [
    {
     "data": {
      "text/plain": [
       "'오염'"
      ]
     },
     "execution_count": 65,
     "metadata": {},
     "output_type": "execute_result"
    }
   ],
   "source": [
    "show_and_classify(single1)\n",
    "# 정답"
   ]
  },
  {
   "cell_type": "code",
   "execution_count": 66,
   "id": "c1b71829",
   "metadata": {},
   "outputs": [
    {
     "data": {
      "text/plain": [
       "'걸레받이수정'"
      ]
     },
     "execution_count": 66,
     "metadata": {},
     "output_type": "execute_result"
    }
   ],
   "source": [
    "show_and_classify(single2)\n",
    "# 틀림"
   ]
  },
  {
   "cell_type": "code",
   "execution_count": 78,
   "id": "02b8974d",
   "metadata": {},
   "outputs": [
    {
     "data": {
      "text/plain": [
       "'훼손'"
      ]
     },
     "execution_count": 78,
     "metadata": {},
     "output_type": "execute_result"
    }
   ],
   "source": [
    "show_and_classify(single5)\n",
    "# 틀림"
   ]
  },
  {
   "cell_type": "markdown",
   "id": "228f71a8",
   "metadata": {},
   "source": [
    "# 5. Final Test"
   ]
  },
  {
   "cell_type": "code",
   "execution_count": 16,
   "id": "181a24cf",
   "metadata": {},
   "outputs": [
    {
     "name": "stdout",
     "output_type": "stream",
     "text": [
      "Found 360 images belonging to 19 classes.\n"
     ]
    }
   ],
   "source": [
    "# test set preprocessing\n",
    "\n",
    "test_gen224 = ImageDataGenerator(rescale=1./255)\n",
    "test_224 = test_gen224.flow_from_directory('data_splited/test',\n",
    "                                              target_size = (224, 224),\n",
    "                                              batch_size = 32,\n",
    "                                              class_mode = 'sparse',\n",
    "                                              shuffle = True)"
   ]
  },
  {
   "cell_type": "code",
   "execution_count": 14,
   "id": "b6df6696",
   "metadata": {},
   "outputs": [
    {
     "name": "stdout",
     "output_type": "stream",
     "text": [
      "11/11 [==============================] - 10s 795ms/step\n",
      "Val Loss : 2.0594\n",
      "Val Accuracy : 0.7988\n",
      "Val Weighted F1 : 0.2403\n"
     ]
    }
   ],
   "source": [
    "# Validation set 평가지표 확인\n",
    "loss, accuracy = model_loaded.evaluate(val_224, verbose=0)\n",
    "\n",
    "predictions = model_loaded.predict(val_224)\n",
    "predictions = np.argmax(predictions, axis = 1) # prediction 구할 시에 이 과정이 꼭 필요하다\n",
    "f1 = f1_score(val_224.classes, predictions, average = 'weighted')\n",
    "\n",
    "print(f'Val Loss : {round(loss, ndigits=4)}')\n",
    "print(f'Val Accuracy : {round(accuracy, ndigits=4)}')\n",
    "print(f'Val Weighted F1 : {round(f1, ndigits=4)}')"
   ]
  },
  {
   "cell_type": "code",
   "execution_count": 17,
   "id": "27a6586e",
   "metadata": {},
   "outputs": [
    {
     "name": "stdout",
     "output_type": "stream",
     "text": [
      "12/12 [==============================] - 12s 952ms/step\n",
      "Val Loss : 2.711\n",
      "Val Accuracy : 0.7833\n",
      "Val Weighted F1 : 0.214\n"
     ]
    }
   ],
   "source": [
    "# Test set 평가지표 확인\n",
    "loss, accuracy = model_loaded.evaluate(test_224, verbose=0)\n",
    "\n",
    "predictions = model_loaded.predict(test_224)\n",
    "predictions = np.argmax(predictions, axis = 1) # prediction 구할 시에 이 과정이 꼭 필요하다\n",
    "f1 = f1_score(test_224.classes, predictions, average = 'weighted')\n",
    "\n",
    "print(f'Val Loss : {round(loss, ndigits=4)}')\n",
    "print(f'Val Accuracy : {round(accuracy, ndigits=4)}')\n",
    "print(f'Val Weighted F1 : {round(f1, ndigits=4)}')"
   ]
  }
 ],
 "metadata": {
  "kernelspec": {
   "display_name": "tensor230",
   "language": "python",
   "name": "tensor230"
  },
  "language_info": {
   "codemirror_mode": {
    "name": "ipython",
    "version": 3
   },
   "file_extension": ".py",
   "mimetype": "text/x-python",
   "name": "python",
   "nbconvert_exporter": "python",
   "pygments_lexer": "ipython3",
   "version": "3.10.9"
  }
 },
 "nbformat": 4,
 "nbformat_minor": 5
}
